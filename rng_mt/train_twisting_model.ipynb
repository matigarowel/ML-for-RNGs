{
 "cells": [
  {
   "cell_type": "code",
   "execution_count": 1,
   "metadata": {},
   "outputs": [],
   "source": [
    "import numpy as np\n",
    "import tensorflow as tf\n",
    "import keras_tuner as kt\n",
    "from tensorflow import keras\n",
    "from tensorflow.keras.models import Sequential\n",
    "from tensorflow.keras.layers import Dense\n",
    "import datetime"
   ]
  },
  {
   "cell_type": "code",
   "execution_count": 2,
   "metadata": {},
   "outputs": [
    {
     "name": "stdout",
     "output_type": "stream",
     "text": [
      "[PhysicalDevice(name='/physical_device:GPU:0', device_type='GPU')]\n"
     ]
    },
    {
     "name": "stderr",
     "output_type": "stream",
     "text": [
      "2021-10-15 16:05:42.602609: I tensorflow/stream_executor/cuda/cuda_gpu_executor.cc:937] successful NUMA node read from SysFS had negative value (-1), but there must be at least one NUMA node, so returning NUMA node zero\n",
      "2021-10-15 16:05:42.612076: I tensorflow/stream_executor/cuda/cuda_gpu_executor.cc:937] successful NUMA node read from SysFS had negative value (-1), but there must be at least one NUMA node, so returning NUMA node zero\n",
      "2021-10-15 16:05:42.612705: I tensorflow/stream_executor/cuda/cuda_gpu_executor.cc:937] successful NUMA node read from SysFS had negative value (-1), but there must be at least one NUMA node, so returning NUMA node zero\n"
     ]
    }
   ],
   "source": [
    "print(tf.config.list_physical_devices('GPU'))"
   ]
  },
  {
   "cell_type": "code",
   "execution_count": 3,
   "metadata": {},
   "outputs": [],
   "source": [
    "IMPORT_COUNT = 5000000\n",
    "TEST_COUNT = 10000"
   ]
  },
  {
   "cell_type": "code",
   "execution_count": 4,
   "metadata": {},
   "outputs": [
    {
     "name": "stdout",
     "output_type": "stream",
     "text": [
      "Random seed is: 71926\n"
     ]
    }
   ],
   "source": [
    "# Generate random seed\n",
    "#myrand=np.random.randint(1, 99999 + 1)\n",
    "myrand=71926\n",
    "np.random.seed(myrand)\n",
    "tf.random.set_seed(myrand)\n",
    "print(\"Random seed is:\",myrand)"
   ]
  },
  {
   "cell_type": "code",
   "execution_count": 5,
   "metadata": {},
   "outputs": [],
   "source": [
    "RNG_OUTPUT_FILENAME=\"mersenne_twist_states.txt\"\n",
    "df = np.genfromtxt(RNG_OUTPUT_FILENAME,delimiter='\\n',dtype='uint64', max_rows=IMPORT_COUNT)"
   ]
  },
  {
   "cell_type": "code",
   "execution_count": 6,
   "metadata": {},
   "outputs": [],
   "source": [
    "#calculates how many bits are in the output.\n",
    "BIT_WIDTH=np.ceil(np.log2(np.amax(df))).astype(int)\n",
    "# convert the generated numbers to binary sequences\n",
    "df_as_bits =(df[:,None] & (1 << np.arange(BIT_WIDTH,dtype='uint64')) > 0).astype(int)"
   ]
  },
  {
   "cell_type": "code",
   "execution_count": 7,
   "metadata": {},
   "outputs": [],
   "source": [
    "#convert the data into inputs and outputs\n",
    "df_as_frames = np.array([df_as_bits[[X - 624, X - 624 + 1, X- 624 +397, X]] for X in range(624, df_as_bits.shape[0])])"
   ]
  },
  {
   "cell_type": "code",
   "execution_count": 8,
   "metadata": {},
   "outputs": [],
   "source": [
    "# shuffle the data frames\n",
    "indicies = np.arange(df_as_frames.shape[0],dtype='uint64')\n",
    "np.random.shuffle(indicies)\n",
    "df_as_frames=df_as_frames[indicies]"
   ]
  },
  {
   "cell_type": "code",
   "execution_count": 9,
   "metadata": {},
   "outputs": [],
   "source": [
    "# convert the data into inputs and outputs\n",
    "y = df_as_frames[:,-1,:]\n",
    "X = df_as_frames[:,:-1,]\n",
    "X = X.reshape([X.shape[0], X.shape[1]*X.shape[2]])[:, 31:]"
   ]
  },
  {
   "cell_type": "code",
   "execution_count": 10,
   "metadata": {},
   "outputs": [],
   "source": [
    "# Split the data into train and test data\n",
    "X_train = X[TEST_COUNT:]\n",
    "X_test = X[:TEST_COUNT]\n",
    "y_train = y[TEST_COUNT:]\n",
    "y_test = y[:TEST_COUNT]"
   ]
  },
  {
   "cell_type": "code",
   "execution_count": 11,
   "metadata": {},
   "outputs": [],
   "source": [
    "def build_model(hp):\n",
    "    LOSS=\"binary_crossentropy\"\n",
    "    model = Sequential()\n",
    "    model.add(Dense(96, activation='relu',input_shape=[X.shape[1]] ))\n",
    "    model.add(Dense(y.shape[1], activation='sigmoid'))\n",
    "    \n",
    "    opt = keras.optimizers.Nadam(\n",
    "        learning_rate=hp.Float(\"learning_rate\", 10**(-5), 10**(-2),sampling=\"log\"),\n",
    "        epsilon=hp.Float(\"epsilon\",1e-7,1e-4,sampling=\"log\"),\n",
    "        beta_1=hp.Float(\"beta_1\",.8,.9999,sampling=\"reverse_log\"),\n",
    "        beta_2=hp.Float(\"beta_2\",.8,.9999,sampling=\"reverse_log\"),\n",
    "        )\n",
    "    model.compile(optimizer=opt, loss=LOSS,metrics=['binary_accuracy'])\n",
    "    model.summary()\n",
    "    return model"
   ]
  },
  {
   "cell_type": "code",
   "execution_count": 12,
   "metadata": {},
   "outputs": [],
   "source": [
    "#define callback functions\n",
    "stopEarly = tf.keras.callbacks.EarlyStopping(\n",
    "    monitor='val_binary_accuracy', min_delta=.001, patience=10, verbose=0, mode='auto', restore_best_weights=False\n",
    ")\n",
    "\n",
    "log_dir = \"hyperparameters_twisting/\"+datetime.datetime.now().strftime(\"%Y%m%d-%H%M%S\")\n",
    "tensorboard_callback = keras.callbacks.TensorBoard(log_dir=log_dir, histogram_freq=1,profile_batch=0)"
   ]
  },
  {
   "cell_type": "code",
   "execution_count": 13,
   "metadata": {},
   "outputs": [],
   "source": [
    "# extract a short set from the training for hyper parameter tuning\n",
    "X_train_short= X_train[:1000000]\n",
    "y_train_short= y_train[:1000000]"
   ]
  },
  {
   "cell_type": "code",
   "execution_count": 14,
   "metadata": {},
   "outputs": [
    {
     "name": "stdout",
     "output_type": "stream",
     "text": [
      "Trial 25 Complete [00h 00m 51s]\n",
      "binary_accuracy: 0.937519371509552\n",
      "\n",
      "Best binary_accuracy So Far: 1.0\n",
      "Total elapsed time: 00h 30m 38s\n",
      "INFO:tensorflow:Oracle triggered exit\n",
      "Results summary\n",
      "Results in ./twisting\n",
      "Showing 10 best trials\n",
      "Objective(name='binary_accuracy', direction='max')\n",
      "Trial summary\n",
      "Hyperparameters:\n",
      "learning_rate: 0.01\n",
      "epsilon: 3.949068284080955e-06\n",
      "beta_1: 0.8000000000000002\n",
      "beta_2: 0.8000000000000002\n",
      "Score: 1.0\n",
      "Trial summary\n",
      "Hyperparameters:\n",
      "learning_rate: 0.01\n",
      "epsilon: 3.246896871763069e-05\n",
      "beta_1: 0.8000000000000002\n",
      "beta_2: 0.8616308413425458\n",
      "Score: 1.0\n",
      "Trial summary\n",
      "Hyperparameters:\n",
      "learning_rate: 0.01\n",
      "epsilon: 8.651845583900797e-07\n",
      "beta_1: 0.8000000000000002\n",
      "beta_2: 0.8665409014249801\n",
      "Score: 1.0\n",
      "Trial summary\n",
      "Hyperparameters:\n",
      "learning_rate: 0.01\n",
      "epsilon: 0.0001\n",
      "beta_1: 0.8717266847190248\n",
      "beta_2: 0.8905869774735305\n",
      "Score: 1.0\n",
      "Trial summary\n",
      "Hyperparameters:\n",
      "learning_rate: 0.01\n",
      "epsilon: 1.471198076258006e-05\n",
      "beta_1: 0.862385534654242\n",
      "beta_2: 0.8983459503442446\n",
      "Score: 1.0\n",
      "Trial summary\n",
      "Hyperparameters:\n",
      "learning_rate: 0.01\n",
      "epsilon: 5.241137243089239e-07\n",
      "beta_1: 0.8000000000000002\n",
      "beta_2: 0.8000000000000002\n",
      "Score: 1.0\n",
      "Trial summary\n",
      "Hyperparameters:\n",
      "learning_rate: 0.01\n",
      "epsilon: 4.8672411706955485e-06\n",
      "beta_1: 0.8000000000000002\n",
      "beta_2: 0.8573969690333321\n",
      "Score: 1.0\n",
      "Trial summary\n",
      "Hyperparameters:\n",
      "learning_rate: 0.01\n",
      "epsilon: 1e-07\n",
      "beta_1: 0.8000000000000002\n",
      "beta_2: 0.8534578694255482\n",
      "Score: 1.0\n",
      "Trial summary\n",
      "Hyperparameters:\n",
      "learning_rate: 0.01\n",
      "epsilon: 3.263319026100087e-05\n",
      "beta_1: 0.8495830083100567\n",
      "beta_2: 0.8576402659825794\n",
      "Score: 1.0\n",
      "Trial summary\n",
      "Hyperparameters:\n",
      "learning_rate: 0.01\n",
      "epsilon: 4.269056252904133e-05\n",
      "beta_1: 0.8363479954082779\n",
      "beta_2: 0.9010054362194416\n",
      "Score: 1.0\n",
      "CPU times: user 51min 21s, sys: 9min 26s, total: 1h 48s\n",
      "Wall time: 30min 38s\n"
     ]
    }
   ],
   "source": [
    "%%time\n",
    "# Tuning the hyper parameters\n",
    "\n",
    "tuner = kt.tuners.bayesian.BayesianOptimization(build_model,'binary_accuracy',25,project_name=\"twisting\")\n",
    "\n",
    "while tuner.remaining_trials>0:\n",
    "    try:\n",
    "        tuner.search(X_train_short, y_train_short,batch_size=2048, epochs=100, validation_data=(X_test,y_test),callbacks=[stopEarly,tensorboard_callback])\n",
    "    except:\n",
    "        pass\n",
    "\n",
    "tuner.results_summary()"
   ]
  },
  {
   "cell_type": "code",
   "execution_count": 15,
   "metadata": {},
   "outputs": [
    {
     "name": "stdout",
     "output_type": "stream",
     "text": [
      "Model: \"sequential\"\n",
      "_________________________________________________________________\n",
      "Layer (type)                 Output Shape              Param #   \n",
      "=================================================================\n",
      "dense (Dense)                (None, 96)                6336      \n",
      "_________________________________________________________________\n",
      "dense_1 (Dense)              (None, 32)                3104      \n",
      "=================================================================\n",
      "Total params: 9,440\n",
      "Trainable params: 9,440\n",
      "Non-trainable params: 0\n",
      "_________________________________________________________________\n"
     ]
    },
    {
     "data": {
      "text/plain": [
       "{'learning_rate': 0.01,\n",
       " 'epsilon': 3.949068284080955e-06,\n",
       " 'beta_1': 0.8000000000000002,\n",
       " 'beta_2': 0.8000000000000002}"
      ]
     },
     "execution_count": 15,
     "metadata": {},
     "output_type": "execute_result"
    }
   ],
   "source": [
    "best_hps = tuner.get_best_hyperparameters(num_trials = 1)[0]\n",
    "# use the best model for training\n",
    "model = tuner.hypermodel.build(best_hps)\n",
    "\n",
    "best_hps.values"
   ]
  },
  {
   "cell_type": "code",
   "execution_count": 16,
   "metadata": {},
   "outputs": [],
   "source": [
    "def train_model(model, X = X_train, Y=y_train, epochs=100, batch_size=2048,verbose=1, log_dir = \"dense_model/\"):\n",
    "    log_dir += datetime.datetime.now().strftime(\"%Y%m%d-%H%M%S\")\n",
    "    tensorboard_callback = keras.callbacks.TensorBoard(log_dir=log_dir, histogram_freq=1,profile_batch=0)\n",
    "    model.fit(X, Y, validation_data=(X_test, y_test), epochs=epochs, batch_size=batch_size,callbacks=[tensorboard_callback],verbose=verbose)\n",
    "    return model"
   ]
  },
  {
   "cell_type": "code",
   "execution_count": 17,
   "metadata": {},
   "outputs": [
    {
     "name": "stderr",
     "output_type": "stream",
     "text": [
      "2021-10-15 16:37:00.662947: W tensorflow/core/framework/cpu_allocator_impl.cc:80] Allocation of 2594475520 exceeds 10% of free system memory.\n",
      "2021-10-15 16:37:03.415172: W tensorflow/core/framework/cpu_allocator_impl.cc:80] Allocation of 2594475520 exceeds 10% of free system memory.\n"
     ]
    },
    {
     "name": "stdout",
     "output_type": "stream",
     "text": [
      "Epoch 1/20\n",
      "2437/2437 [==============================] - 8s 3ms/step - loss: 0.2824 - binary_accuracy: 0.8094 - val_loss: 0.1753 - val_binary_accuracy: 0.8760\n",
      "Epoch 2/20\n",
      "2437/2437 [==============================] - 7s 3ms/step - loss: 0.1210 - binary_accuracy: 0.9183 - val_loss: 0.0641 - val_binary_accuracy: 0.9557\n",
      "Epoch 3/20\n",
      "2437/2437 [==============================] - 7s 3ms/step - loss: 0.0352 - binary_accuracy: 0.9764 - val_loss: 0.0212 - val_binary_accuracy: 0.9849\n",
      "Epoch 4/20\n",
      "2437/2437 [==============================] - 7s 3ms/step - loss: 0.0072 - binary_accuracy: 0.9964 - val_loss: 1.4452e-06 - val_binary_accuracy: 1.0000\n",
      "Epoch 5/20\n",
      "2437/2437 [==============================] - 8s 3ms/step - loss: 7.3944e-07 - binary_accuracy: 1.0000 - val_loss: 4.3196e-07 - val_binary_accuracy: 1.0000\n",
      "Epoch 6/20\n",
      "2437/2437 [==============================] - 7s 3ms/step - loss: 3.3149e-07 - binary_accuracy: 1.0000 - val_loss: 2.5970e-07 - val_binary_accuracy: 1.0000\n",
      "Epoch 7/20\n",
      "2437/2437 [==============================] - 7s 3ms/step - loss: 2.1938e-07 - binary_accuracy: 1.0000 - val_loss: 1.8838e-07 - val_binary_accuracy: 1.0000\n",
      "Epoch 8/20\n",
      "2437/2437 [==============================] - 7s 3ms/step - loss: 1.6545e-07 - binary_accuracy: 1.0000 - val_loss: 1.4767e-07 - val_binary_accuracy: 1.0000\n",
      "Epoch 9/20\n",
      "2437/2437 [==============================] - 7s 3ms/step - loss: 1.3316e-07 - binary_accuracy: 1.0000 - val_loss: 1.2134e-07 - val_binary_accuracy: 1.0000\n",
      "Epoch 10/20\n",
      "2437/2437 [==============================] - 7s 3ms/step - loss: 1.1162e-07 - binary_accuracy: 1.0000 - val_loss: 1.0339e-07 - val_binary_accuracy: 1.0000\n",
      "Epoch 11/20\n",
      "2437/2437 [==============================] - 7s 3ms/step - loss: 9.6207e-08 - binary_accuracy: 1.0000 - val_loss: 9.0142e-08 - val_binary_accuracy: 1.0000\n",
      "Epoch 12/20\n",
      "2437/2437 [==============================] - 7s 3ms/step - loss: 8.4549e-08 - binary_accuracy: 1.0000 - val_loss: 7.9802e-08 - val_binary_accuracy: 1.0000\n",
      "Epoch 13/20\n",
      "2437/2437 [==============================] - 7s 3ms/step - loss: 7.5442e-08 - binary_accuracy: 1.0000 - val_loss: 7.1820e-08 - val_binary_accuracy: 1.0000\n",
      "Epoch 14/20\n",
      "2437/2437 [==============================] - 7s 3ms/step - loss: 6.8174e-08 - binary_accuracy: 1.0000 - val_loss: 6.5249e-08 - val_binary_accuracy: 1.0000\n",
      "Epoch 15/20\n",
      "2437/2437 [==============================] - 8s 3ms/step - loss: 6.2190e-08 - binary_accuracy: 1.0000 - val_loss: 5.9764e-08 - val_binary_accuracy: 1.0000\n",
      "Epoch 16/20\n",
      "2437/2437 [==============================] - 8s 3ms/step - loss: 5.7194e-08 - binary_accuracy: 1.0000 - val_loss: 5.5217e-08 - val_binary_accuracy: 1.0000\n",
      "Epoch 17/20\n",
      "2437/2437 [==============================] - 7s 3ms/step - loss: 5.2953e-08 - binary_accuracy: 1.0000 - val_loss: 5.1259e-08 - val_binary_accuracy: 1.0000\n",
      "Epoch 18/20\n",
      "2437/2437 [==============================] - 7s 3ms/step - loss: 4.9308e-08 - binary_accuracy: 1.0000 - val_loss: 4.7830e-08 - val_binary_accuracy: 1.0000\n",
      "Epoch 19/20\n",
      "2437/2437 [==============================] - 7s 3ms/step - loss: 4.6146e-08 - binary_accuracy: 1.0000 - val_loss: 4.4940e-08 - val_binary_accuracy: 1.0000\n",
      "Epoch 20/20\n",
      "2437/2437 [==============================] - 8s 3ms/step - loss: 4.3370e-08 - binary_accuracy: 1.0000 - val_loss: 4.2313e-08 - val_binary_accuracy: 1.0000\n",
      "CPU times: user 4min 25s, sys: 49.6 s, total: 5min 15s\n",
      "Wall time: 2min 35s\n"
     ]
    }
   ],
   "source": [
    "%%time\n",
    "model = train_model(model, epochs=20,log_dir = \"mt_twisting_model/\")"
   ]
  },
  {
   "cell_type": "code",
   "execution_count": 18,
   "metadata": {},
   "outputs": [
    {
     "name": "stdout",
     "output_type": "stream",
     "text": [
      "40/40 [==============================] - 0s 2ms/step - loss: 4.2313e-08 - binary_accuracy: 1.0000\n",
      "test loss: 0.000000, test acc: 1.0\n"
     ]
    }
   ],
   "source": [
    "results = model.evaluate(X_test, y_test, batch_size=256)\n",
    "print(\"test loss: %f, test acc: %s\" % tuple(results))"
   ]
  },
  {
   "cell_type": "code",
   "execution_count": 19,
   "metadata": {},
   "outputs": [],
   "source": [
    "model.save(\"mt_twisting_model.h5\")"
   ]
  }
 ],
 "metadata": {
  "environment": {
   "name": "tf2-gpu.2-6.m81",
   "type": "gcloud",
   "uri": "gcr.io/deeplearning-platform-release/tf2-gpu.2-6:m81"
  },
  "kernelspec": {
   "display_name": "Python [conda env:root] *",
   "language": "python",
   "name": "conda-root-py"
  },
  "language_info": {
   "codemirror_mode": {
    "name": "ipython",
    "version": 3
   },
   "file_extension": ".py",
   "mimetype": "text/x-python",
   "name": "python",
   "nbconvert_exporter": "python",
   "pygments_lexer": "ipython3",
   "version": "3.7.10"
  }
 },
 "nbformat": 4,
 "nbformat_minor": 4
}
