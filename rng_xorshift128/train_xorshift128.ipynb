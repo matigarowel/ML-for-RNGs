{
 "cells": [
  {
   "cell_type": "code",
   "execution_count": 1,
   "metadata": {},
   "outputs": [],
   "source": [
    "import numpy as np\n",
    "import tensorflow as tf\n",
    "import keras_tuner as kt\n",
    "from tensorflow import keras\n",
    "from tensorflow.keras.models import Sequential\n",
    "from tensorflow.keras.layers import Dense\n",
    "import datetime\n",
    "import pandas as pd"
   ]
  },
  {
   "cell_type": "code",
   "execution_count": 2,
   "metadata": {},
   "outputs": [
    {
     "name": "stdout",
     "output_type": "stream",
     "text": [
      "[PhysicalDevice(name='/physical_device:GPU:0', device_type='GPU')]\n"
     ]
    },
    {
     "name": "stderr",
     "output_type": "stream",
     "text": [
      "2021-10-14 23:05:36.614690: I tensorflow/stream_executor/cuda/cuda_gpu_executor.cc:937] successful NUMA node read from SysFS had negative value (-1), but there must be at least one NUMA node, so returning NUMA node zero\n",
      "2021-10-14 23:05:36.623848: I tensorflow/stream_executor/cuda/cuda_gpu_executor.cc:937] successful NUMA node read from SysFS had negative value (-1), but there must be at least one NUMA node, so returning NUMA node zero\n",
      "2021-10-14 23:05:36.624495: I tensorflow/stream_executor/cuda/cuda_gpu_executor.cc:937] successful NUMA node read from SysFS had negative value (-1), but there must be at least one NUMA node, so returning NUMA node zero\n"
     ]
    }
   ],
   "source": [
    "print(tf.config.list_physical_devices('GPU'))"
   ]
  },
  {
   "cell_type": "code",
   "execution_count": 3,
   "metadata": {},
   "outputs": [],
   "source": [
    "IMPORT_COUNT = 1990000\n",
    "TEST_COUNT = 10000"
   ]
  },
  {
   "cell_type": "code",
   "execution_count": 4,
   "metadata": {},
   "outputs": [
    {
     "name": "stdout",
     "output_type": "stream",
     "text": [
      "Random seed is: 71926\n"
     ]
    }
   ],
   "source": [
    "# Generate random seed\n",
    "#myrand=np.random.randint(1, 99999 + 1)\n",
    "myrand=71926\n",
    "np.random.seed(myrand)\n",
    "tf.random.set_seed(myrand)\n",
    "print(\"Random seed is:\",myrand)"
   ]
  },
  {
   "cell_type": "code",
   "execution_count": 5,
   "metadata": {},
   "outputs": [],
   "source": [
    "PREVIOUS_TIMESTEP_COUNT = 4\n",
    "TOTAL_DATA_NUM = IMPORT_COUNT-PREVIOUS_TIMESTEP_COUNT"
   ]
  },
  {
   "cell_type": "code",
   "execution_count": 6,
   "metadata": {},
   "outputs": [],
   "source": [
    "# convert the sequence of generated numbers to 4 inputs and one output\n",
    "def strided(a, L):\n",
    "\tshp = a.shape\n",
    "\ts  = a.strides\n",
    "\tnd0 = shp[0]-L+1\n",
    "\tshp_in = (nd0,L)+shp[1:]\n",
    "\tstrd_in = (s[0],) + s\n",
    "\treturn np.lib.stride_tricks.as_strided(a, shape=shp_in, strides=strd_in)"
   ]
  },
  {
   "cell_type": "code",
   "execution_count": 7,
   "metadata": {},
   "outputs": [],
   "source": [
    "RNG_OUTPUT_FILENAME=\"xorshift128.txt\"\n",
    "df = np.genfromtxt(RNG_OUTPUT_FILENAME,delimiter='\\n',dtype='uint64')[:IMPORT_COUNT]"
   ]
  },
  {
   "cell_type": "code",
   "execution_count": 8,
   "metadata": {},
   "outputs": [],
   "source": [
    "# calculates how many bits are in the output.\n",
    "BIT_WIDTH = np.ceil(np.log2(np.amax(df))).astype(int)"
   ]
  },
  {
   "cell_type": "code",
   "execution_count": 9,
   "metadata": {},
   "outputs": [],
   "source": [
    "# convert the generated numbers to binary sequences\n",
    "df_as_bits =(df[:,None] & (1 << np.arange(BIT_WIDTH,dtype='uint64')) > 0).astype(int)\n",
    "df_as_frames = strided(df_as_bits, PREVIOUS_TIMESTEP_COUNT+1)"
   ]
  },
  {
   "cell_type": "code",
   "execution_count": 10,
   "metadata": {},
   "outputs": [],
   "source": [
    "indicies = np.arange(TOTAL_DATA_NUM,dtype='uint64')\n",
    "np.random.shuffle(indicies)\n",
    "df_as_frames=df_as_frames[indicies]"
   ]
  },
  {
   "cell_type": "code",
   "execution_count": 11,
   "metadata": {},
   "outputs": [],
   "source": [
    "# convert the data into inputs and outputs\n",
    "y = df_as_frames[:,-1,:]\n",
    "X = df_as_frames[:,:-1,]\n",
    "X = X.reshape([X.shape[0], X.shape[1]*X.shape[2]])"
   ]
  },
  {
   "cell_type": "code",
   "execution_count": 12,
   "metadata": {},
   "outputs": [],
   "source": [
    "# Convert the data into train and test data\n",
    "X_train = X[TEST_COUNT:]\n",
    "X_test = X[:TEST_COUNT]\n",
    "y_train = y[TEST_COUNT:]\n",
    "y_test = y[:TEST_COUNT]"
   ]
  },
  {
   "cell_type": "code",
   "execution_count": 13,
   "metadata": {},
   "outputs": [],
   "source": [
    "def build_model(hp):\n",
    "\tLOSS=\"binary_crossentropy\"\n",
    "\tmodel = Sequential()\n",
    "\tmodel.add(Dense(1024, activation='relu',input_shape=[X.shape[1]] ))\n",
    "\tmodel.add(Dense(y.shape[1], activation='sigmoid'))\n",
    "\topt = keras.optimizers.Nadam(\n",
    "\t\tlearning_rate=hp.Float(\"learning_rate\", 10**(-5), 10**(-3),sampling=\"log\"),\n",
    "\t\tepsilon=hp.Float(\"epsilon\",1e-7,1e-5,sampling=\"log\"),\n",
    "\t\tbeta_1=hp.Float(\"beta_1\",.8,.9,sampling=\"reverse_log\"),\n",
    "\t\tbeta_2=hp.Float(\"beta_2\",.8,.9,sampling=\"reverse_log\"),\n",
    "\t\t)\n",
    "\tmodel.compile(optimizer=opt, loss=LOSS,metrics=['binary_accuracy'])\n",
    "\treturn model"
   ]
  },
  {
   "cell_type": "code",
   "execution_count": 14,
   "metadata": {},
   "outputs": [],
   "source": [
    "#define call back functions\n",
    "stopEarly = tf.keras.callbacks.EarlyStopping(\n",
    "\tmonitor='binary_accuracy', min_delta=.001, patience=3, verbose=0, mode='auto', restore_best_weights=False\n",
    ")\n",
    "\n",
    "log_dir = \"hyperparameters/\"+datetime.datetime.now().strftime(\"%Y%m%d-%H%M%S\")\n",
    "tensorboard_callback = keras.callbacks.TensorBoard(log_dir=log_dir, histogram_freq=1,profile_batch=0)"
   ]
  },
  {
   "cell_type": "code",
   "execution_count": 15,
   "metadata": {},
   "outputs": [],
   "source": [
    "# extract a short set from the training for hyper parameter tuning\n",
    "X_train_short= X_train[:600000]\n",
    "y_train_short= y_train[:600000]"
   ]
  },
  {
   "cell_type": "code",
   "execution_count": 16,
   "metadata": {},
   "outputs": [
    {
     "name": "stdout",
     "output_type": "stream",
     "text": [
      "Trial 20 Complete [00h 05m 13s]\n",
      "binary_accuracy: 0.8181179165840149\n",
      "\n",
      "Best binary_accuracy So Far: 0.8958734273910522\n",
      "Total elapsed time: 01h 34m 07s\n",
      "INFO:tensorflow:Oracle triggered exit\n",
      "Results summary\n",
      "Results in ./bayes\n",
      "Showing 10 best trials\n",
      "Objective(name='binary_accuracy', direction='max')\n",
      "Trial summary\n",
      "Hyperparameters:\n",
      "learning_rate: 0.0003826518055596723\n",
      "epsilon: 6.396190758353597e-07\n",
      "beta_1: 0.8494228963384591\n",
      "beta_2: 0.8782732182358544\n",
      "Score: 0.8958734273910522\n",
      "Trial summary\n",
      "Hyperparameters:\n",
      "learning_rate: 0.001\n",
      "epsilon: 1e-05\n",
      "beta_1: 0.9000000000000001\n",
      "beta_2: 0.9000000000000001\n",
      "Score: 0.8704718351364136\n",
      "Trial summary\n",
      "Hyperparameters:\n",
      "learning_rate: 0.001\n",
      "epsilon: 1e-05\n",
      "beta_1: 0.8746139914912504\n",
      "beta_2: 0.9000000000000001\n",
      "Score: 0.8424170017242432\n",
      "Trial summary\n",
      "Hyperparameters:\n",
      "learning_rate: 0.0001871037160927886\n",
      "epsilon: 1.1351280272965006e-06\n",
      "beta_1: 0.8872810391566094\n",
      "beta_2: 0.8832777157779522\n",
      "Score: 0.8334669470787048\n",
      "Trial summary\n",
      "Hyperparameters:\n",
      "learning_rate: 0.001\n",
      "epsilon: 1e-05\n",
      "beta_1: 0.9000000000000001\n",
      "beta_2: 0.8084898047763054\n",
      "Score: 0.8293578624725342\n",
      "Trial summary\n",
      "Hyperparameters:\n",
      "learning_rate: 0.00016141351419846615\n",
      "epsilon: 2.653901096173286e-07\n",
      "beta_1: 0.8530912431344189\n",
      "beta_2: 0.9000000000000001\n",
      "Score: 0.8221911191940308\n",
      "Trial summary\n",
      "Hyperparameters:\n",
      "learning_rate: 0.0005443557194744506\n",
      "epsilon: 9.458251936076948e-07\n",
      "beta_1: 0.8472171858393401\n",
      "beta_2: 0.9000000000000001\n",
      "Score: 0.8181179165840149\n",
      "Trial summary\n",
      "Hyperparameters:\n",
      "learning_rate: 0.000475515614555259\n",
      "epsilon: 1e-05\n",
      "beta_1: 0.9000000000000001\n",
      "beta_2: 0.8634160821559484\n",
      "Score: 0.8179270029067993\n",
      "Trial summary\n",
      "Hyperparameters:\n",
      "learning_rate: 0.001\n",
      "epsilon: 2.9890937542679973e-06\n",
      "beta_1: 0.8787479861048664\n",
      "beta_2: 0.867440116417462\n",
      "Score: 0.8108174204826355\n",
      "Trial summary\n",
      "Hyperparameters:\n",
      "learning_rate: 0.001\n",
      "epsilon: 1.7661505229147183e-06\n",
      "beta_1: 0.9000000000000001\n",
      "beta_2: 0.9000000000000001\n",
      "Score: 0.8016022443771362\n",
      "CPU times: user 2h 32min 43s, sys: 33min 43s, total: 3h 6min 27s\n",
      "Wall time: 1h 34min 7s\n"
     ]
    }
   ],
   "source": [
    "%%time\n",
    "# Tuning the hyper parameters\n",
    "\n",
    "tuner = kt.tuners.bayesian.BayesianOptimization(build_model,'binary_accuracy',20,project_name=\"bayes\", seed= myrand)\n",
    "tuner.search(X_train_short, y_train_short,batch_size=256, epochs=50, validation_data=(X_test,y_test),callbacks=[stopEarly,tensorboard_callback])\n",
    "tuner.results_summary()"
   ]
  },
  {
   "cell_type": "code",
   "execution_count": 17,
   "metadata": {},
   "outputs": [
    {
     "data": {
      "text/plain": [
       "{'learning_rate': 0.0003826518055596723,\n",
       " 'epsilon': 6.396190758353597e-07,\n",
       " 'beta_1': 0.8494228963384591,\n",
       " 'beta_2': 0.8782732182358544}"
      ]
     },
     "execution_count": 17,
     "metadata": {},
     "output_type": "execute_result"
    }
   ],
   "source": [
    "best_hps = tuner.get_best_hyperparameters(num_trials = 1)[0]\n",
    "# use the best model for training\n",
    "model = tuner.hypermodel.build(best_hps)\n",
    "best_hps.values"
   ]
  },
  {
   "cell_type": "code",
   "execution_count": 18,
   "metadata": {},
   "outputs": [],
   "source": [
    "def train_model(model, X = X_train, Y=y_train, epochs=10, batch_size=512,verbose=0, log_dir = \"dense_model/\"):\n",
    "    log_dir += datetime.datetime.now().strftime(\"%Y%m%d-%H%M%S\")\n",
    "    tensorboard_callback = keras.callbacks.TensorBoard(log_dir=log_dir, histogram_freq=1,profile_batch=0)\n",
    "    model.fit(X, Y, validation_data=(X_test, y_test), epochs=epochs, batch_size=batch_size,callbacks=[tensorboard_callback],verbose=verbose)\n",
    "    return model"
   ]
  },
  {
   "cell_type": "code",
   "execution_count": 19,
   "metadata": {},
   "outputs": [
    {
     "name": "stdout",
     "output_type": "stream",
     "text": [
      "CPU times: user 25min 55s, sys: 5min 18s, total: 31min 14s\n",
      "Wall time: 14min 58s\n"
     ]
    }
   ],
   "source": [
    "%%time\n",
    "my_model_trained = train_model(model, epochs=100)"
   ]
  },
  {
   "cell_type": "code",
   "execution_count": 20,
   "metadata": {},
   "outputs": [
    {
     "name": "stdout",
     "output_type": "stream",
     "text": [
      "40/40 [==============================] - 0s 1ms/step - loss: 2.1286e-07 - binary_accuracy: 1.0000\n",
      "test loss: 0.000000, test acc: 1.0\n"
     ]
    }
   ],
   "source": [
    "results = model.evaluate(X_test, y_test, batch_size=256)\n",
    "print(\"test loss: %f, test acc: %s\" % tuple(results))"
   ]
  },
  {
   "cell_type": "code",
   "execution_count": 21,
   "metadata": {},
   "outputs": [],
   "source": [
    "my_model_trained.save(\"xorshift128_model.h5\")"
   ]
  }
 ],
 "metadata": {
  "environment": {
   "name": "tf2-gpu.2-6.m81",
   "type": "gcloud",
   "uri": "gcr.io/deeplearning-platform-release/tf2-gpu.2-6:m81"
  },
  "kernelspec": {
   "display_name": "Python 3",
   "language": "python",
   "name": "python3"
  },
  "language_info": {
   "codemirror_mode": {
    "name": "ipython",
    "version": 3
   },
   "file_extension": ".py",
   "mimetype": "text/x-python",
   "name": "python",
   "nbconvert_exporter": "python",
   "pygments_lexer": "ipython3",
   "version": "3.7.10"
  }
 },
 "nbformat": 4,
 "nbformat_minor": 4
}
